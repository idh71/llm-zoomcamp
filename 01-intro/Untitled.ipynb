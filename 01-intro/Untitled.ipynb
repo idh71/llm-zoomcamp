{
 "cells": [
  {
   "cell_type": "code",
   "execution_count": 4,
   "id": "b56bac74-18ba-4651-a890-4a3caee7450b",
   "metadata": {},
   "outputs": [],
   "source": [
    "import openai"
   ]
  },
  {
   "cell_type": "code",
   "execution_count": 5,
   "id": "a74575a0-7997-45fa-aa21-b0d3ef54df5b",
   "metadata": {},
   "outputs": [],
   "source": [
    "from openai import OpenAI"
   ]
  },
  {
   "cell_type": "code",
   "execution_count": 6,
   "id": "011b892f-e3ef-4d65-9f54-13b82f88fd7d",
   "metadata": {},
   "outputs": [],
   "source": [
    "client = OpenAI()"
   ]
  },
  {
   "cell_type": "code",
   "execution_count": 19,
   "id": "70f4a88b-52ba-4390-8b3a-53afdace5dab",
   "metadata": {},
   "outputs": [],
   "source": [
    "question ='do dolphins lhave language'"
   ]
  },
  {
   "cell_type": "code",
   "execution_count": 20,
   "id": "01201de5-629e-4e63-a4f9-22b4e541384d",
   "metadata": {},
   "outputs": [],
   "source": [
    "response = client.chat.completions.create(\n",
    "    model=\"gpt-4o\",\n",
    "    messages=[{\"role\": \"user\", \"content\": question}]\n",
    ")"
   ]
  },
  {
   "cell_type": "code",
   "execution_count": 21,
   "id": "37644415-bc90-4134-b0cb-ea7932db98ce",
   "metadata": {},
   "outputs": [
    {
     "data": {
      "text/plain": [
       "'Dolphins possess sophisticated forms of communication that some researchers argue might be considered a form of language. They use a variety of vocalizations, such as clicks, whistles, and pulsed sounds, to convey different types of information. Each dolphin is also believed to have a unique \"signature whistle\" that functions much like a name, enabling individual dolphins to identify one another.\\n\\nIn addition to vocal signals, dolphins use body language, including gestures and postures, to communicate. They are known for their impressive cognitive abilities, complex social structures, and the ability to understand and mimic artificial languages in captivity, further suggesting a high level of communicative competence.\\n\\nAlthough dolphin communication exhibits many features of human language, such as the use of symbols and complex social interactions, it is not yet fully understood whether it meets all the criteria of a true language in the linguistic sense. Ongoing research continues to explore the intricacies of dolphin communication and its potential parallels to human language.'"
      ]
     },
     "execution_count": 21,
     "metadata": {},
     "output_type": "execute_result"
    }
   ],
   "source": [
    "response.choices[0].message.content"
   ]
  },
  {
   "cell_type": "code",
   "execution_count": null,
   "id": "d018ef9d-0d5c-4032-a292-632085aee03e",
   "metadata": {},
   "outputs": [],
   "source": []
  }
 ],
 "metadata": {
  "kernelspec": {
   "display_name": "Python 3 (ipykernel)",
   "language": "python",
   "name": "python3"
  },
  "language_info": {
   "codemirror_mode": {
    "name": "ipython",
    "version": 3
   },
   "file_extension": ".py",
   "mimetype": "text/x-python",
   "name": "python",
   "nbconvert_exporter": "python",
   "pygments_lexer": "ipython3",
   "version": "3.10.14"
  }
 },
 "nbformat": 4,
 "nbformat_minor": 5
}
